{
 "cells": [
  {
   "cell_type": "code",
   "execution_count": null,
   "metadata": {},
   "outputs": [],
   "source": [
    "# bing image search seems to have changed somewhat\n",
    "# https://docs.microsoft.com/en-us/bing/search-apis/bing-web-search/create-bing-search-service-resource\n",
    "# not sure of all the details, but all i know is that my initial key expired, and when i went to get\n",
    "# another one, there was a lot of confusion about cognitive services versus bing search\n",
    "# i ended up getting a Bing Search Key, and no combination of endpoints would work, using the\n",
    "# existing azure cognitive services modules included in fastbook / fastai.  believe me, i tried.\n",
    "# but it does work when using basic requests using the requests module\n",
    "# a few gotchas:\n",
    "# the 'content_url' key in the returned [\"values\"] element is now:  'contentUrl'"
   ]
  },
  {
   "cell_type": "code",
   "execution_count": 1,
   "metadata": {},
   "outputs": [],
   "source": [
    "!pip install -Uqq fastbook"
   ]
  },
  {
   "cell_type": "code",
   "execution_count": 2,
   "metadata": {},
   "outputs": [
    {
     "name": "stderr",
     "output_type": "stream",
     "text": [
      "/opt/conda/lib/python3.7/site-packages/fastbook/__init__.py:22: UserWarning: Missing `graphviz` - please run `conda install fastbook`\n",
      "  except ModuleNotFoundError: warn(\"Missing `graphviz` - please run `conda install fastbook`\")\n"
     ]
    }
   ],
   "source": [
    "import fastbook\n",
    "fastbook.setup_book()"
   ]
  },
  {
   "cell_type": "code",
   "execution_count": 3,
   "metadata": {},
   "outputs": [],
   "source": [
    "from fastbook import *\n",
    "from fastai.vision.widgets import *"
   ]
  },
  {
   "cell_type": "code",
   "execution_count": 4,
   "metadata": {},
   "outputs": [],
   "source": [
    "import requests"
   ]
  },
  {
   "cell_type": "code",
   "execution_count": 5,
   "metadata": {},
   "outputs": [],
   "source": [
    "# this is a key one can get from microsoft\n",
    "MY_BING_KEY = 'XXX'"
   ]
  },
  {
   "cell_type": "code",
   "execution_count": 7,
   "metadata": {},
   "outputs": [],
   "source": [
    "# bing search reference:\n",
    "# query parameter reference:\n",
    "# https://docs.microsoft.com/en-us/bing/search-apis/bing-image-search/reference/query-parameters\n",
    "# filters (max size, etc.)\n",
    "# https://docs.microsoft.com/en-us/bing/search-apis/bing-image-search/reference/query-parameters#filter-query-parameters"
   ]
  },
  {
   "cell_type": "code",
   "execution_count": 12,
   "metadata": {},
   "outputs": [],
   "source": [
    "def my_search_images_bing(key, term, min_size=128, count=150):\n",
    "    search_url = \"https://api.bing.microsoft.com/v7.0/images/search\"\n",
    "    headers = {\"Ocp-Apim-Subscription-Key\" : key}\n",
    "    params  = {\"q\": term, \"imageType\": \"photo\", \"count\": count, \"minHeight\": min_size, \"minWidth\": min_size}\n",
    "    response = requests.get(search_url, headers=headers, params=params)\n",
    "    response.raise_for_status()\n",
    "    search_results = response.json()\n",
    "    return L(search_results[\"value\"])"
   ]
  },
  {
   "cell_type": "code",
   "execution_count": 15,
   "metadata": {},
   "outputs": [],
   "source": [
    "results = my_search_images_bing(MY_BING_KEY, 'Fender Stratocaster body')\n",
    "ims = results.attrgot('contentUrl')"
   ]
  },
  {
   "cell_type": "code",
   "execution_count": 16,
   "metadata": {},
   "outputs": [
    {
     "data": {
      "text/plain": [
       "150"
      ]
     },
     "execution_count": 16,
     "metadata": {},
     "output_type": "execute_result"
    }
   ],
   "source": [
    "len(ims)"
   ]
  },
  {
   "cell_type": "code",
   "execution_count": 15,
   "metadata": {},
   "outputs": [
    {
     "data": {
      "text/plain": [
       "'https://images.reverb.com/image/upload/s--vMAuWIIg--/a_exif,c_limit,f_auto,fl_progressive,g_south,q_auto:eco,w_1280/v1476313062/b9cx4q2myrbsy9ekfwfb.jpg'"
      ]
     },
     "execution_count": 15,
     "metadata": {},
     "output_type": "execute_result"
    }
   ],
   "source": [
    "ims[11]"
   ]
  },
  {
   "cell_type": "code",
   "execution_count": null,
   "metadata": {},
   "outputs": [],
   "source": []
  }
 ],
 "metadata": {
  "environment": {
   "name": "pytorch-gpu.1-4.m56",
   "type": "gcloud",
   "uri": "gcr.io/deeplearning-platform-release/pytorch-gpu.1-4:m56"
  },
  "kernelspec": {
   "display_name": "Python 3",
   "language": "python",
   "name": "python3"
  },
  "language_info": {
   "codemirror_mode": {
    "name": "ipython",
    "version": 3
   },
   "file_extension": ".py",
   "mimetype": "text/x-python",
   "name": "python",
   "nbconvert_exporter": "python",
   "pygments_lexer": "ipython3",
   "version": "3.7.8"
  }
 },
 "nbformat": 4,
 "nbformat_minor": 4
}
